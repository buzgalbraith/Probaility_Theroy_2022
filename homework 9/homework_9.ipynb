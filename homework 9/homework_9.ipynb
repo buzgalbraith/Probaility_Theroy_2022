{
 "cells": [
  {
   "cell_type": "code",
   "execution_count": 1,
   "metadata": {},
   "outputs": [],
   "source": [
    "import numpy as np\n",
    "import pandas as pd \n",
    "import matplotlib.pyplot as plt"
   ]
  },
  {
   "cell_type": "code",
   "execution_count": 2,
   "metadata": {},
   "outputs": [],
   "source": [
    "data=np.load(r'C:\\Users\\buzga\\Desktop\\School\\grad school\\Theroy of prob\\homework 9\\aqi.npy')"
   ]
  },
  {
   "cell_type": "code",
   "execution_count": 3,
   "metadata": {},
   "outputs": [
    {
     "name": "stdout",
     "output_type": "stream",
     "text": [
      "The dataset has a mean value of 136.11267605633802 and standard devation of 129.9240893531572\n"
     ]
    }
   ],
   "source": [
    "def mean(x):\n",
    "    out=0\n",
    "    for i in x:\n",
    "        out=out+i\n",
    "    return out/len(x)\n",
    "def standard_dev(x):\n",
    "    return (mean(data**2)-(mean(data)**2))**(1/2)\n",
    "std=standard_dev(data) \n",
    "mean=mean(data)\n",
    "print('The dataset has a mean value of {0} and standard devation of {1}'.format(mean, std))"
   ]
  },
  {
   "cell_type": "code",
   "execution_count": 4,
   "metadata": {},
   "outputs": [
    {
     "data": {
      "text/plain": [
       "{'whiskers': [<matplotlib.lines.Line2D at 0x24752cb7bb0>,\n",
       "  <matplotlib.lines.Line2D at 0x24752cb7e80>],\n",
       " 'caps': [<matplotlib.lines.Line2D at 0x24754cd8250>,\n",
       "  <matplotlib.lines.Line2D at 0x24754cd85e0>],\n",
       " 'boxes': [<matplotlib.lines.Line2D at 0x24752cab5e0>],\n",
       " 'medians': [<matplotlib.lines.Line2D at 0x24754cd8970>],\n",
       " 'fliers': [<matplotlib.lines.Line2D at 0x24754cd8d00>],\n",
       " 'means': []}"
      ]
     },
     "execution_count": 4,
     "metadata": {},
     "output_type": "execute_result"
    },
    {
     "data": {
      "image/png": "[encoded data removed]",
      "text/plain": [
       "<Figure size 432x288 with 1 Axes>"
      ]
     },
     "metadata": {
      "needs_background": "light"
     },
     "output_type": "display_data"
    }
   ],
   "source": [
    "plt.boxplot(data)"
   ]
  },
  {
   "cell_type": "code",
   "execution_count": 5,
   "metadata": {},
   "outputs": [
    {
     "data": {
      "text/plain": [
       "array([ 92,  90,  83,  83,  87,  87,  92, 174, 115, 251, 327, 108, 120,\n",
       "       111, 111, 106, 118, 127, 107, 133, 135, 146, 132, 120,  99, 100,\n",
       "       136, 176, 218, 862, 868, 123, 125, 116, 130, 109, 115, 149, 130,\n",
       "       114, 108, 119, 107, 110,  97,  95, 112,  91,  84,  80,  90,  89,\n",
       "       104, 108,  83,  86,  85,  92,  89, 108, 118, 101,  83,  94,  99,\n",
       "        93,  83,  95, 129, 101, 106], dtype=int64)"
      ]
     },
     "execution_count": 5,
     "metadata": {},
     "output_type": "execute_result"
    }
   ],
   "source": [
    "data"
   ]
  },
  {
   "cell_type": "markdown",
   "metadata": {},
   "source": [
    "-  yes looking at the valeus of the data it is clear tht the typcial vlaue is reasonably close to 130. there are extreme values that destore the mean, but that is relfected in the standard devation. so the mean and stadard devaiton would tell you the average value of the eman is around 130, but there is a lot of veration around that measure which seems to reflect the data quite well and thus the level of air polution in a city."
   ]
  }
 ],
 "metadata": {
  "kernelspec": {
   "display_name": "Python 3.8.8 ('base')",
   "language": "python",
   "name": "python3"
  },
  "language_info": {
   "codemirror_mode": {
    "name": "ipython",
    "version": 3
   },
   "file_extension": ".py",
   "mimetype": "text/x-python",
   "name": "python",
   "nbconvert_exporter": "python",
   "pygments_lexer": "ipython3",
   "version": "3.8.8"
  },
  "orig_nbformat": 4,
  "vscode": {
   "interpreter": {
    "hash": "9a7a47e06beb32a03ad382b3cb45f6688197811263189ecf77f249956dea5c75"
   }
  }
 },
 "nbformat": 4,
 "nbformat_minor": 2
}
