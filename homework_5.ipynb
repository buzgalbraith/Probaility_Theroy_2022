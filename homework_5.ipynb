{
 "cells": [
  {
   "cell_type": "code",
   "execution_count": 2,
   "metadata": {},
   "outputs": [],
   "source": [
    "import pandas as pd\n",
    "data=pd.read_csv(r\"C:\\Users\\buzga\\Downloads\\pricedelta.csv\")"
   ]
  },
  {
   "cell_type": "code",
   "execution_count": 3,
   "metadata": {},
   "outputs": [
    {
     "data": {
      "text/plain": [
       "amzn  spy  jpm\n",
       "1     1    1      0.300926\n",
       "0     0    0      0.224537\n",
       "1     0    0      0.115741\n",
       "0     1    1      0.108796\n",
       "1     1    0      0.104167\n",
       "0     0    1      0.074074\n",
       "1     0    1      0.037037\n",
       "0     1    0      0.034722\n",
       "dtype: float64"
      ]
     },
     "execution_count": 3,
     "metadata": {},
     "output_type": "execute_result"
    }
   ],
   "source": [
    "def greater(x):\n",
    "    return int(x>0)\n",
    "bool_data=data[[\"amzn\",\"spy\",'jpm']].applymap(greater)  \n",
    "bool_data.value_counts(normalize=True)"
   ]
  },
  {
   "cell_type": "code",
   "execution_count": 37,
   "metadata": {},
   "outputs": [],
   "source": [
    "#bool_data[[\"amzn\",\"spy\"]].value_counts(normalize=True)\n",
    "#bool_data[[\"amzn\",'jpm']].value_counts(normalize=True)\n",
    "bool_data[['amzn',\"spy\",'jpm' ]].value_counts(normalize=True)\n",
    "## likelyhood all 3 go up. 0.115741\n",
    "##3 likelyhood amazon goes up \n",
    "temp=bool_data[['amzn',\"spy\",'jpm' ]].value_counts(normalize=True)\n",
    "#/0.548611 #0.300926\n",
    "keys=bool_data[['amzn',\"spy\",'jpm' ]].value_counts(normalize=True).keys()\n",
    "#/0.548611 #0.300926\n",
    "#0.55787 \n",
    "#bool_data[['spy']].value_counts(normalize=True) #0.300926\n"
   ]
  },
  {
   "cell_type": "code",
   "execution_count": 47,
   "metadata": {},
   "outputs": [
    {
     "data": {
      "text/plain": [
       "amzn  spy  jpm\n",
       "1     1    1      0.539419\n",
       "      0    0      0.207469\n",
       "      1    0      0.186722\n",
       "      0    1      0.066390\n",
       "dtype: float64"
      ]
     },
     "execution_count": 47,
     "metadata": {},
     "output_type": "execute_result"
    }
   ],
   "source": [
    "idx=[key  for key in keys if key[0]==1]\n",
    "temp[idx]/sum(temp[idx])"
   ]
  },
  {
   "cell_type": "code",
   "execution_count": 5,
   "metadata": {},
   "outputs": [
    {
     "data": {
      "text/plain": [
       "amzn\n",
       "1       0.55787\n",
       "0       0.44213\n",
       "dtype: float64"
      ]
     },
     "execution_count": 5,
     "metadata": {},
     "output_type": "execute_result"
    }
   ],
   "source": [
    "import numpy as np\n",
    "bool_data[['amzn']].value_counts(normalize=True)\n",
    "#np.array([0.115741, 0.037037,0.104167, 0.300926])/0.44213"
   ]
  },
  {
   "cell_type": "code",
   "execution_count": null,
   "metadata": {},
   "outputs": [],
   "source": []
  }
 ],
 "metadata": {
  "kernelspec": {
   "display_name": "Python 3.8.8 ('base')",
   "language": "python",
   "name": "python3"
  },
  "language_info": {
   "codemirror_mode": {
    "name": "ipython",
    "version": 3
   },
   "file_extension": ".py",
   "mimetype": "text/x-python",
   "name": "python",
   "nbconvert_exporter": "python",
   "pygments_lexer": "ipython3",
   "version": "3.8.8"
  },
  "orig_nbformat": 4,
  "vscode": {
   "interpreter": {
    "hash": "9a7a47e06beb32a03ad382b3cb45f6688197811263189ecf77f249956dea5c75"
   }
  }
 },
 "nbformat": 4,
 "nbformat_minor": 2
}
