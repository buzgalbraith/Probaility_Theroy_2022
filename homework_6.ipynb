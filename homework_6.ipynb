{
 "cells": [
  {
   "cell_type": "code",
   "execution_count": 1,
   "metadata": {},
   "outputs": [],
   "source": [
    "import numpy as np \n",
    "import pandas as pd \n",
    "import matplotlib.pyplot as plt"
   ]
  },
  {
   "cell_type": "code",
   "execution_count": 2,
   "metadata": {},
   "outputs": [
    {
     "data": {
      "text/plain": [
       "array([0.3, 0. , 0.7])"
      ]
     },
     "execution_count": 2,
     "metadata": {},
     "output_type": "execute_result"
    }
   ],
   "source": [
    "T=np.array([[1,.1,0],[0,.7,0],[0,.2,1]])\n",
    "eigs=np.linalg.eig(T)\n",
    "Lambda=np.diag(eigs[0])\n",
    "Q=eigs[1]\n",
    "Q_inverse=np.linalg.inv(Q)\n",
    "Pi_0=np.array([0,.9,.1])\n",
    "np.round(Q@np.linalg.matrix_power(Lambda,200)@Q_inverse@Pi_0,5)\n"
   ]
  },
  {
   "cell_type": "code",
   "execution_count": 3,
   "metadata": {},
   "outputs": [
    {
     "data": {
      "text/plain": [
       "Text(0, 0.5, '% per state')"
      ]
     },
     "execution_count": 3,
     "metadata": {},
     "output_type": "execute_result"
    },
    {
     "data": {
      "image/png": "[encoded data removed]",
      "text/plain": [
       "<Figure size 432x288 with 1 Axes>"
      ]
     },
     "metadata": {
      "needs_background": "light"
     },
     "output_type": "display_data"
    }
   ],
   "source": [
    "y=np.linspace(1,25,25)\n",
    "x=[]\n",
    "for i in y:\n",
    "    x.append(np.round(Q@np.linalg.matrix_power(Lambda,int(i))@Q_inverse@Pi_0,5))\n",
    "plt.plot(y,x[0:])\n",
    "plt.legend([\"export\", \"stock \",\"sold\"])\n",
    "plt.xlabel(\"states passed\")\n",
    "plt.ylabel(\"% per state\")"
   ]
  },
  {
   "cell_type": "code",
   "execution_count": 1,
   "metadata": {},
   "outputs": [],
   "source": [
    "import numpy as np\n",
    "from collections import Counter\n",
    "\n",
    "from sympy import denom\n",
    "\n",
    "def data_loader():\n",
    "    # load data\n",
    "    with open('train','r') as file:\n",
    "        train_data = file.read().split('\\n')[:-1]\n",
    "    with open('test','r') as file:\n",
    "        test_data = file.read().split('\\n')[:-1]\n",
    "    return train_data, test_data\n",
    "\n",
    "def parser(datum):\n",
    "    # extract labels and words\n",
    "    email_addr, label, words = datum.split(' ',2)\n",
    "    words = words.split()\n",
    "    # transform words into dictionary\n",
    "    word_dict = dict(zip([words[i] for i in range(0, len(words), 2)], [int(words[i+1]) for i in range(0, len(words), 2)]))\n",
    "    # transform label into 0, 1\n",
    "    if label == 'ham':\n",
    "        label = 0\n",
    "    elif label == 'spam':\n",
    "        label = 1\n",
    "    else: \n",
    "        raise ValueError\n",
    "    return label, word_dict\n",
    "\n",
    "def data_preprocessing(train_data, test_data):\n",
    "    y_train = np.zeros(len(train_data))\n",
    "    y_test = np.zeros(len(test_data))\n",
    "    x_train = []\n",
    "    x_test = []\n",
    "    for i, datum in enumerate(train_data):\n",
    "        label, word_dict = parser(datum)\n",
    "        y_train[i] = label\n",
    "        x_train.append(word_dict)\n",
    "    for i, datum in enumerate(test_data):\n",
    "        label, word_dict = parser(datum)\n",
    "        y_test[i] = label\n",
    "        x_test.append(word_dict)\n",
    "    return x_train, y_train, x_test, y_test\n",
    "\n",
    "def compute_empirical_pmf_y(y_train):\n",
    "    # compte distribution P(y=1), P(y=0)\n",
    "    # TODO\n",
    "    x=len(np.where(y_train==1)[0])/len(y_train)\n",
    "    y=len(np.where(y_train==0)[0])/len(y_train)\n",
    "    return x,y\n",
    "\n",
    "def m_estimation_conditional_probability(x_train_frt, y_train, num_vocab, m):\n",
    "    # compute P(x_j|y=1) and P(x_j|y=0) for j = 1, ..., d\n",
    "    # TODO\n",
    "    p_on_spam_m=[]\n",
    "    p_on_ham_m=[]\n",
    "    for i in range(num_vocab):\n",
    "        a=np.argwhere(x_train_frt[:,i]>=1) ## ie where x=1\n",
    "        b=np.argwhere(y_train>=1) ## ie where y=1\n",
    "        d=np.argwhere(y_train<1) ## ie where y=0\n",
    "        c=np.intersect1d(a,b) ## so this is x=1,y=1\n",
    "        e=np.intersect1d(a,d) ## this is x=1,y=0\n",
    "        numerator=len(c)+m ## this is number of cases in x=1,y=0 plus the m factor+m\n",
    "        denominator=len(b)+(m*num_vocab) ## this si number of cases where y=1\n",
    "        numerator_2=len(e)+m ## this is count(x=1,y=0)+ m\n",
    "        denominator_2=len(d)+(m*num_vocab) # this si count y=0\n",
    "        #p_on_spam_m.append(np.sum(y_train[x_train_frt[:,i]>0]==1)+m/ np.sum(y_train==1)+m*num_vocab)\n",
    "        #p_on_ham_m.append(np.sum(y_train[x_train_frt[:,i]>0]==0)+m/ np.sum(y_train==0)+m*num_vocab)\n",
    "        p_on_spam_m.append(numerator/denominator) ## then the ratio of these two.  makes sense since y=1\n",
    "        p_on_ham_m.append(numerator_2/denominator_2) ## add the ratio of these two.  makes sense since y=0\n",
    "    return p_on_spam_m,p_on_ham_m\n",
    "\n",
    "def log_estimated_probability(p_spam, p_ham, p_on_spam_m, p_on_ham_m, x_frts):\n",
    "    # compute log(P(y=1, x_1, x_2,..., x_n)) and log(P(y=0, x_1, x_2,..., x_n))\n",
    "    # hint: log(P(y, x_1, x_2,..., x_n)) = log(P(y=1)) + log(P(x_1 | y)) + ... + log(P(x_d | y))\n",
    "    # TODO\n",
    "    out_spam=[]\n",
    "    out_ham=[]\n",
    "    for row in x_frts:\n",
    "        temp_spam=np.log10(p_spam)\n",
    "        temp_ham=np.log10(p_ham) ## start off with teh low of the rar probabilities/ \n",
    "        for word in range(len(row)):\n",
    "            if(row[word]==0): ## if the word is not present \n",
    "                #if(p_on_spam_m[word]<(1-0.0000000001)):\n",
    "                temp_spam=temp_spam+np.log10(1-p_on_spam_m[word]) ## P(x=0|y=1)=1-P(x=1|y=1) by law of total probability? \n",
    "                #if(p_on_ham_m[word]<(1-0.0000000001)):\n",
    "                temp_ham=temp_ham+np.log10(1-p_on_ham_m[word])\n",
    "            else:\n",
    "                #if(p_on_spam_m[word]> 0.0000000001):\n",
    "                temp_spam=temp_spam+np.log10(p_on_spam_m[word])\n",
    "                #if(p_on_ham_m[word]> 0.0000000001):\n",
    "                temp_ham=temp_ham+np.log10(p_on_ham_m[word])\n",
    "        out_spam.append(temp_spam)\n",
    "        out_ham.append(temp_ham)\n",
    "    return np.array(out_spam),np.array(out_ham)\n",
    "\n",
    "def accuarcy(y_true, y_pred):\n",
    "    # calculate accuracy\n",
    "    # TODO \n",
    "    return len(np.argwhere(y_true==y_pred))/len(y_pred)"
   ]
  },
  {
   "cell_type": "code",
   "execution_count": 2,
   "metadata": {},
   "outputs": [
    {
     "name": "stdout",
     "output_type": "stream",
     "text": [
      "(9000, 1000) (1000, 1000)\n"
     ]
    }
   ],
   "source": [
    "from sklearn.feature_extraction import DictVectorizer\n",
    "# load data\n",
    "train_data, test_data = data_loader()\n",
    "# extract labels to 0,1 and features to dicticnary\n",
    "x_train, y_train, x_test, y_test = data_preprocessing(train_data, test_data)\n",
    "\n",
    "# transform word dicts to feature vectors\n",
    "vectorizer = DictVectorizer(sparse=False)\n",
    "\n",
    "x_train_frt = vectorizer.fit_transform(x_train)\n",
    "x_test_frt = vectorizer.transform(x_test)\n",
    "print(x_train_frt.shape, x_test_frt.shape)\n"
   ]
  },
  {
   "cell_type": "code",
   "execution_count": 3,
   "metadata": {},
   "outputs": [
    {
     "name": "stdout",
     "output_type": "stream",
     "text": [
      "0\n"
     ]
    },
    {
     "name": "stderr",
     "output_type": "stream",
     "text": [
      "C:\\Users\\buzga\\AppData\\Local\\Temp/ipykernel_11556/474062043.py:84: RuntimeWarning: divide by zero encountered in log10\n",
      "  temp_spam=temp_spam+np.log10(1-p_on_spam_m[word]) ## P(x=0|y=1)=1-P(x=1|y=1) by law of total probability?\n",
      "C:\\Users\\buzga\\AppData\\Local\\Temp/ipykernel_11556/474062043.py:89: RuntimeWarning: divide by zero encountered in log10\n",
      "  temp_spam=temp_spam+np.log10(p_on_spam_m[word])\n"
     ]
    },
    {
     "name": "stdout",
     "output_type": "stream",
     "text": [
      "0:0.932\n",
      "0.01\n",
      "0.01:0.927\n",
      "0.1\n",
      "0.1:0.924\n",
      "1\n",
      "1:0.922\n",
      "10\n",
      "10:0.905\n",
      "100\n",
      "100:0.88\n",
      "1000\n",
      "1000:0.845\n"
     ]
    }
   ],
   "source": [
    "def pipeline(x_train_frt, y_train, x_test_frt, y_test, m):\n",
    "    print(m)\n",
    "    p_spam, p_ham = compute_empirical_pmf_y(y_train)\n",
    "    p_on_spam_m, p_on_ham_m = m_estimation_conditional_probability(x_train_frt, y_train, x_train_frt.shape[1], m)\n",
    "    log_p_spam, log_p_ham = log_estimated_probability(p_spam, p_ham, p_on_spam_m, p_on_ham_m, x_test_frt)\n",
    "    test_pred = (log_p_spam > log_p_ham)\n",
    "    print(str(m) + \":\" + str(accuarcy(y_test, test_pred)))\n",
    "\n",
    "m_grid = [0, 0.01, 0.1, 1, 10, 100, 1000 ]\n",
    "for m in m_grid:\n",
    "    pipeline(x_train_frt, y_train, x_test_frt, y_test, m)"
   ]
  }
 ],
 "metadata": {
  "kernelspec": {
   "display_name": "Python 3.8.8 ('base')",
   "language": "python",
   "name": "python3"
  },
  "language_info": {
   "codemirror_mode": {
    "name": "ipython",
    "version": 3
   },
   "file_extension": ".py",
   "mimetype": "text/x-python",
   "name": "python",
   "nbconvert_exporter": "python",
   "pygments_lexer": "ipython3",
   "version": "3.8.8"
  },
  "orig_nbformat": 4,
  "vscode": {
   "interpreter": {
    "hash": "9a7a47e06beb32a03ad382b3cb45f6688197811263189ecf77f249956dea5c75"
   }
  }
 },
 "nbformat": 4,
 "nbformat_minor": 2
}
