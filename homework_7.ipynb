{
 "cells": [
  {
   "cell_type": "code",
   "execution_count": 2,
   "metadata": {},
   "outputs": [],
   "source": [
    "import numpy as np \n",
    "import pandas as pd \n",
    "import matplotlib.pyplot as plt\n"
   ]
  },
  {
   "cell_type": "code",
   "execution_count": 16,
   "metadata": {},
   "outputs": [
    {
     "data": {
      "text/plain": [
       "[<matplotlib.lines.Line2D at 0x16c82d3eb20>]"
      ]
     },
     "execution_count": 16,
     "metadata": {},
     "output_type": "execute_result"
    },
    {
     "data": {
      "image/png": "[encoded data removed]",
      "text/plain": [
       "<Figure size 432x288 with 1 Axes>"
      ]
     },
     "metadata": {
      "needs_background": "light"
     },
     "output_type": "display_data"
    }
   ],
   "source": [
    "x=np.linspace(0,10,11)\n",
    "def marginal(nums):\n",
    "    out=[]\n",
    "    for n in nums:\n",
    "        if(6<=n and 8>=n):\n",
    "            out.append(13/36)\n",
    "        else:\n",
    "            out.append(10/288)\n",
    "    return out\n",
    "plt.plot(x,marginal(x))"
   ]
  },
  {
   "cell_type": "code",
   "execution_count": 45,
   "metadata": {},
   "outputs": [
    {
     "data": {
      "text/plain": [
       "array([[-1.00000000e+00,  0.00000000e+00,  0.00000000e+00],\n",
       "       [ 0.00000000e+00, -4.51028104e-17,  0.00000000e+00],\n",
       "       [ 0.00000000e+00,  0.00000000e+00,  1.00000000e+00]])"
      ]
     },
     "execution_count": 45,
     "metadata": {},
     "output_type": "execute_result"
    }
   ],
   "source": [
    "import numpy as np\n",
    "import matplotlib.pyplot as plt\n",
    "T=np.array([[0,1,0],[.1,0,.9,], [0,1,.0]]).T\n",
    "Q=np.linalg.eig(T)[1]\n",
    "Q_inv=np.linalg.inv(Q)\n",
    "eigs=np.linalg.eig(T)[0]\n",
    "lambda_mat=np.zeros([3,3])\n",
    "for i in range(3):\n",
    "    lambda_mat[i][i]=eigs[i]\n",
    "\n",
    "T\n",
    "lambda_mat\n",
    "Q\n",
    "def matrix_normalize(mat):\n",
    "    for i in range(len(mat[1])):\n",
    "        mean=np.mean(mat[:,i])\n",
    "        for j in range(len(mat[i])):\n",
    "           mat[j][i]=np.round(mat[j][i]/mean,3)\n",
    "        #print(np.mean(Q[:,i]))\n",
    "    return mat\n",
    "matrix_normalize(Q)\n",
    "Q@lambda_mat@Q_inv\n",
    "lambda_mat"
   ]
  },
  {
   "cell_type": "code",
   "execution_count": 18,
   "metadata": {},
   "outputs": [
    {
     "name": "stdout",
     "output_type": "stream",
     "text": [
      "1\n",
      "2\n",
      "3\n",
      "4\n",
      "5\n",
      "6\n"
     ]
    },
    {
     "data": {
      "text/plain": [
       "1.75"
      ]
     },
     "execution_count": 18,
     "metadata": {},
     "output_type": "execute_result"
    }
   ],
   "source": [
    "def factorail(x):\n",
    "    a=1\n",
    "    for i in range(1,x+1):\n",
    "        a=a*i\n",
    "    return a\n",
    "def chose(n,k):\n",
    "    num=factorail(n)\n",
    "    denom=factorail(k)*factorail(n-k)\n",
    "    return num/denom\n",
    "def y_conditonal_x(x):\n",
    "    out=0\n",
    "    for i in range(1,x+1):\n",
    "        #print(i)\n",
    "        out=out+i*chose(x,i)\n",
    "    return ((.5)**(x))*out\n",
    "def expected_y_given_x():\n",
    "    out=0\n",
    "    for i in range(1,7):\n",
    "        print(i)\n",
    "        out=out+y_conditonal_x(i)\n",
    "    return out/6 \n",
    "expected_y_given_x()\n",
    "#y_conditonal_x(6)"
   ]
  },
  {
   "cell_type": "code",
   "execution_count": 22,
   "metadata": {},
   "outputs": [
    {
     "data": {
      "text/plain": [
       "(array([ 3.23606798, -1.23606798]),\n",
       " array([[ 0.85065081, -0.52573111],\n",
       "        [ 0.52573111,  0.85065081]]))"
      ]
     },
     "execution_count": 22,
     "metadata": {},
     "output_type": "execute_result"
    }
   ],
   "source": [
    "import numpy as np \n",
    "x=np.array([[2,2],[2,0]])\n",
    "np.linalg.eig(x)"
   ]
  }
 ],
 "metadata": {
  "kernelspec": {
   "display_name": "Python 3.8.8 ('base')",
   "language": "python",
   "name": "python3"
  },
  "language_info": {
   "codemirror_mode": {
    "name": "ipython",
    "version": 3
   },
   "file_extension": ".py",
   "mimetype": "text/x-python",
   "name": "python",
   "nbconvert_exporter": "python",
   "pygments_lexer": "ipython3",
   "version": "3.8.8"
  },
  "orig_nbformat": 4,
  "vscode": {
   "interpreter": {
    "hash": "9a7a47e06beb32a03ad382b3cb45f6688197811263189ecf77f249956dea5c75"
   }
  }
 },
 "nbformat": 4,
 "nbformat_minor": 2
}
