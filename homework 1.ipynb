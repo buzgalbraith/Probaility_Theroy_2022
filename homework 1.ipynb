{
 "cells": [
  {
   "cell_type": "code",
   "execution_count": null,
   "metadata": {},
   "outputs": [],
   "source": [
    "import numpy as np\n",
    "import matplotlib.pyplot as plt\n",
    "plt.close(\"all\")\n",
    "np.random.seed(2017)\n",
    "\n",
    "def p_longest_streak(n, tries):\n",
    "    # Write your Monte Carlo code here, n is the length of the sequence and tries is the number\n",
    "    # of sampled sequences used to produce the estimate of the probability\n",
    "\n",
    "n_tries = [1e3,5e3,1e4,5e4,1e5]\n",
    "\n",
    "n_vals = [5,200]\n",
    "\n",
    "color_array = ['orange','darkorange','tomato','red', 'darkred', 'tomato', 'purple', 'grey', 'deepskyblue', \n",
    "               'maroon','darkgray','darkorange', 'steelblue', 'forestgreen', 'silver']\n",
    "for ind_n in range(len(n_vals)):\n",
    "    n = n_vals[ind_n]\n",
    "    plt.figure(figsize=(20,5))\n",
    "    for ind_tries in range(len(n_tries)):\n",
    "        tries = n_tries[ind_tries]\n",
    "        print \"tries: \" + str(tries)\n",
    "        p_longest_tries = p_longest_streak(n, np.int(tries))\n",
    "        plt.plot(range(n+1),p_longest_tries, marker='o',markersize=6,linestyle=\"dashed\",lw=2,\n",
    "                 color=color_array[ind_tries],\n",
    "                 markeredgecolor= color_array[ind_tries],label=str(tries))\n",
    "    plt.legend()\n",
    "    \n",
    "print \"The probability that the longest streak of ones in a Bernoulli iid sequence of length 200 has length 8 or more is \"\n",
    "print # Compute the probability and print it here"
   ]
  },
  {
   "cell_type": "code",
   "execution_count": 29,
   "metadata": {},
   "outputs": [
    {
     "data": {
      "text/plain": [
       "array([1, 0, 1, 0, 0, 1, 0, 0, 1, 0])"
      ]
     },
     "execution_count": 29,
     "metadata": {},
     "output_type": "execute_result"
    }
   ],
   "source": [
    "import numpy as np \n",
    "def p_longest_streak(n, tries):\n",
    "    outcomes=[]\n",
    "    for i in tries:\n",
    "        outcomes.append(np.random.randint(0,2,n))\n"
   ]
  }
 ],
 "metadata": {
  "kernelspec": {
   "display_name": "Python 3.8.8 ('base')",
   "language": "python",
   "name": "python3"
  },
  "language_info": {
   "codemirror_mode": {
    "name": "ipython",
    "version": 3
   },
   "file_extension": ".py",
   "mimetype": "text/x-python",
   "name": "python",
   "nbconvert_exporter": "python",
   "pygments_lexer": "ipython3",
   "version": "3.8.8"
  },
  "orig_nbformat": 4,
  "vscode": {
   "interpreter": {
    "hash": "9a7a47e06beb32a03ad382b3cb45f6688197811263189ecf77f249956dea5c75"
   }
  }
 },
 "nbformat": 4,
 "nbformat_minor": 2
}
